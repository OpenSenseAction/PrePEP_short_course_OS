{
 "cells": [
  {
   "cell_type": "markdown",
   "id": "42503d47-035b-4ffc-a531-d277450214a1",
   "metadata": {},
   "source": [
    "# QC protocol for Private Weather Stations"
   ]
  },
  {
   "cell_type": "markdown",
   "id": "e8c627a2-bf0c-4543-91a5-d8ec579d1991",
   "metadata": {},
   "source": [
    "This notebook presents how to use the Python package `pypwsqc`, a quality assurance protocol developed for automated private weather stations (PWS).\n",
    "The protocol consists of three filters from de Vos et al (2019) the Faulty Zero filter, the High Influx filter and the Station Outlier filter as well as the Indicator Correlation Filter (IC) from Bardossy et al. (2021) \n",
    "\n",
    "\n",
    "\n",
    "Publications: \n",
    "* de Vos, L. W., Leijnse, H., Overeem, A., & Uijlenhoet, R. (2019). Quality control for crowdsourced personal weather stations to enable operational rainfall monitoring. Geophysical Research Letters, 46(15), 8820-8829 with original R code at available at https://github.com/LottedeVos/PWSQC/.\n",
    "* Bárdossy, A., Seidel, J., and El Hachem, A.: The use of personal weather station observations to improve precipitation estimation and interpolation, Hydrol. Earth Syst. Sci., 25, 583–601, https://doi.org/10.5194/hess-25-583-2021, 2021. \n",
    "\n"
   ]
  },
  {
   "cell_type": "code",
   "execution_count": null,
   "id": "2494fa40-0440-4f66-9e8e-120525e22752",
   "metadata": {},
   "outputs": [],
   "source": [
    "import sys\n",
    "\n",
    "sys.path.append('poligrain/src')\n",
    "sys.path.append('pypwsqc/src')"
   ]
  },
  {
   "cell_type": "code",
   "execution_count": null,
   "id": "ddc1b508-44a3-4cbe-821b-07957a8b8d61",
   "metadata": {},
   "outputs": [],
   "source": [
    "import matplotlib.pyplot as plt\n",
    "import poligrain as plg\n",
    "import xarray as xr\n",
    "from tqdm import tqdm\n",
    "import numpy as np\n",
    "\n",
    "import pypwsqc\n",
    "\n",
    "import warnings\n",
    "warnings.simplefilter(action=\"ignore\", category=FutureWarning)\n",
    "warnings.simplefilter(action=\"ignore\", category=RuntimeWarning)"
   ]
  },
  {
   "cell_type": "markdown",
   "id": "d8eabf00-cd96-4df4-83d0-6d2bbc7f00b5",
   "metadata": {},
   "source": [
    "## Download example data\n",
    "\n",
    "In this example, we use an open PWS dataset from Amsterdam, called the \"AMS PWS\" dataset. By running the cell below, a NetCDF-file will be downloaded to your current repository (if your machine is connected to the internet)."
   ]
  },
  {
   "cell_type": "code",
   "execution_count": null,
   "id": "349939dd-0014-43e3-a373-db596af12769",
   "metadata": {},
   "outputs": [],
   "source": [
    "import os\n",
    "if not os.path.exists(\"example_data/\"):\n",
    "    os.makedirs(\"example_data/\")"
   ]
  },
  {
   "cell_type": "code",
   "execution_count": null,
   "id": "e5d30da9-cb2c-486d-a48e-2cd476ac8700",
   "metadata": {},
   "outputs": [],
   "source": [
    "!curl -L https://github.com/OpenSenseAction/OS_data_format_conventions/raw/main/notebooks/data/OpenSense_PWS_example_format_data.nc > example_data/OpenSense_PWS_example_format_data.nc\n"
   ]
  },
  {
   "cell_type": "markdown",
   "id": "b3196db8-5f40-4572-906e-f8dbc6963820",
   "metadata": {},
   "source": [
    "## Data preparations\n",
    "\n",
    "This package handles rainfall data as `xarray`  Datasets. The data set must have `time` and `id` dimensions, `latitude` and `longitude` as coordinates, and `rainfall` as data variable.\n",
    "\n",
    "An example of how to convert .csv data to a `xarray` dataset is found [here](https://github.com/OpenSenseAction/OS_data_format_conventions/blob/main/notebooks/PWS_example_dataset.ipynb)."
   ]
  },
  {
   "cell_type": "code",
   "execution_count": null,
   "id": "c9861088-c01d-4967-8522-10b3bd4b5054",
   "metadata": {},
   "outputs": [],
   "source": [
    "ds_pws = xr.open_dataset(\"example_data/OpenSense_PWS_example_format_data.nc\").load()\n",
    "ds_pws"
   ]
  },
  {
   "cell_type": "markdown",
   "id": "4798289d-4118-43ff-8a17-fe54c91f8d8b",
   "metadata": {},
   "source": [
    "### Reproject coordinates\n",
    "First we reproject the coordinates to a local metric coordinate reference system to allow for distance calculations. In the Amsterdam example we use EPSG:25832. **Remember to use a local metric reference system for your use case!** We use the function `spatial.project_point_coordinates` in the `poligrain`package. "
   ]
  },
  {
   "cell_type": "code",
   "execution_count": null,
   "id": "fd9e0c17-e360-4fe0-9b8b-362dca21b613",
   "metadata": {},
   "outputs": [],
   "source": [
    "ds_pws.coords[\"x\"], ds_pws.coords[\"y\"] = plg.spatial.project_point_coordinates(\n",
    "    x=ds_pws.longitude, y=ds_pws.latitude, target_projection=\"EPSG:25832\"\n",
    ")"
   ]
  },
  {
   "cell_type": "markdown",
   "id": "5aec8b35-6021-4e81-94e3-3c85162c09ee",
   "metadata": {},
   "source": [
    "### Create distance matrix\n",
    "\n",
    "Then, we calculate the distances between all stations in our data set. If your data set has a large number of stations this can take some time."
   ]
  },
  {
   "cell_type": "code",
   "execution_count": null,
   "id": "b25b9ab8-7a6a-4aa2-872d-0076be536f30",
   "metadata": {},
   "outputs": [],
   "source": [
    "distance_matrix = plg.spatial.calc_point_to_point_distances(ds_pws, ds_pws)"
   ]
  },
  {
   "cell_type": "code",
   "execution_count": null,
   "id": "93c85228-3a1b-4653-8673-a578a2d6142d",
   "metadata": {},
   "outputs": [],
   "source": [
    "plt.pcolor(distance_matrix.values)\n",
    "plt.colorbar(label='distance [m]')\n",
    "plt.xlabel('pws_id')\n",
    "plt.ylabel('pws_id');"
   ]
  },
  {
   "cell_type": "markdown",
   "id": "8c70fc46-051e-401f-a9c9-b29df0c0f8a7",
   "metadata": {},
   "source": [
    "### Calculate data variables \n",
    "Next, we will calculate the data variables `nbrs_not_nan` and `reference` that are needed to perform the quality control.\n",
    "\n",
    "`nbrs_not_nan`:\n",
    "Number of neighbours within a specificed range `max_distance` around the station that are reporting rainfall for each time step. The selected range depends on the use case and area of interest. In this example we use 10'000 meters. \n",
    "\n",
    " `reference`:\n",
    "Median rainfall of all stations within range `max_distance` from each station."
   ]
  },
  {
   "cell_type": "code",
   "execution_count": null,
   "id": "89ad5b25-04dd-483f-8efb-c2d0e97f705a",
   "metadata": {},
   "outputs": [],
   "source": [
    "max_distance = 10e3"
   ]
  },
  {
   "cell_type": "code",
   "execution_count": null,
   "id": "aedee960-32b6-4dac-b8c3-6b9c98fe06c4",
   "metadata": {},
   "outputs": [],
   "source": [
    "nbrs_not_nan = []\n",
    "reference = []\n",
    "\n",
    "for pws_id in tqdm(ds_pws.id.data):\n",
    "    neighbor_ids = distance_matrix.id.data[\n",
    "        (distance_matrix.sel(id=pws_id) < max_distance)\n",
    "        & (distance_matrix.sel(id=pws_id) > 0)\n",
    "    ]\n",
    "\n",
    "    N = ds_pws.rainfall.sel(id=neighbor_ids).isnull().sum(dim=\"id\")\n",
    "    nbrs_not_nan.append(N)\n",
    "\n",
    "    median = ds_pws.sel(id=neighbor_ids).rainfall.median(dim=\"id\")\n",
    "    reference.append(median)\n",
    "\n",
    "ds_pws[\"nbrs_not_nan\"] = xr.concat(nbrs_not_nan, dim=\"id\")\n",
    "ds_pws[\"reference\"] = xr.concat(reference, dim=\"id\")"
   ]
  },
  {
   "cell_type": "markdown",
   "id": "9eed6125-9a64-4413-821c-1f6bf28aa2fb",
   "metadata": {},
   "source": [
    "### Load reference data set\n",
    "As referecence data for the indicator correlation filter (so called primary stations, c.f. Bárdossy et al. (2021)), 20 time series from pixels from the gauge-adjusteed KNMI radar product over the Amsterdam Metropolitan area were chosen randomly.\n",
    "\n",
    "The following cell loads this data set and adds cartesian coordinates as shown above"
   ]
  },
  {
   "cell_type": "code",
   "execution_count": null,
   "id": "ecb3ac9b-2fd5-4dac-a62b-5b3a0c732989",
   "metadata": {},
   "outputs": [],
   "source": [
    "ds_ref = xr.open_dataset(\"pypwsqc/docs/notebooks/data/RadarRef_AMS.nc\")\n",
    "ds_ref.load()\n",
    "\n",
    "ds_ref.coords[\"x\"], ds_ref.coords[\"y\"] = plg.spatial.project_point_coordinates(\n",
    "    ds_ref.lon,\n",
    "    ds_ref.lat,\n",
    "    target_projection=\"EPSG:25832\",\n",
    ")"
   ]
  },
  {
   "cell_type": "markdown",
   "id": "ecc992ab-cc39-40c7-bc2c-955df75864c0",
   "metadata": {},
   "source": [
    "## Exercise 1\n",
    "1.1 Plot one or more time series of PWS and reference data  \n",
    "1.2 Calculate and plot the distance between PWS and reference data  \n",
    "1.3 Plot an approximate and a widely seperated pair of PWS-refernce data"
   ]
  },
  {
   "cell_type": "code",
   "execution_count": null,
   "id": "edeb088d-89af-4141-a4b1-86b346968b55",
   "metadata": {},
   "outputs": [],
   "source": [
    "# 1.1 - your solution here\n",
    "\n"
   ]
  },
  {
   "cell_type": "code",
   "execution_count": null,
   "id": "cbf636c1-6602-4dad-8518-d8033c89ad27",
   "metadata": {},
   "outputs": [],
   "source": [
    "if input(\"Enter 'Solution' to display solutions: \")=='Solution':\n",
    "    %load solutions/3_1_1_solution.py"
   ]
  },
  {
   "cell_type": "code",
   "execution_count": null,
   "id": "d8d1324d-c37b-432a-9878-4dd028e8d883",
   "metadata": {},
   "outputs": [],
   "source": [
    "# 1.2 - your solution here\n",
    "\n"
   ]
  },
  {
   "cell_type": "code",
   "execution_count": null,
   "id": "553786e2-72d8-4de5-b86a-209daf18e749",
   "metadata": {},
   "outputs": [],
   "source": [
    "if input(\"Enter 'Solution' to display solutions: \")=='Solution':\n",
    "    %load solutions/3_1_2_solution.py"
   ]
  },
  {
   "cell_type": "code",
   "execution_count": null,
   "id": "04c43c24-f47b-463f-bfe5-19dec0e43a50",
   "metadata": {},
   "outputs": [],
   "source": [
    "# 1.3 - your solution here\n",
    "\n"
   ]
  },
  {
   "cell_type": "code",
   "execution_count": null,
   "id": "46167f54-d69f-45f9-961d-5b3cb50811db",
   "metadata": {},
   "outputs": [],
   "source": [
    "if input(\"Enter 'Solution' to display solutions: \")=='Solution':\n",
    "    %load solutions/3_1_3_solution.py\n"
   ]
  },
  {
   "cell_type": "markdown",
   "id": "abac2b94-1ea3-4abf-bf41-547460e0db9a",
   "metadata": {},
   "source": [
    "## Faulty Zero Filter (FZ)\n",
    "Conditions for raising Faulty Zeros flag:\n",
    "\n",
    "* Median rainfall of neighbouring stations within range `max_distance` is larger than zero for at least `nint` time intervals while the station itself reports zero rainfall.\n",
    "* The FZ flag remains 1 until the station reports nonzero rainfall.\n",
    "* Filter cannot be applied if less than `nstat` neighbours are reporting data (FZ flag is set to -1)\n",
    "\n",
    "For settings for parameter `nint` and `nstat`, see table 1 in [de Vos et al. (2021)](https://agupubs.onlinelibrary.wiley.com/doi/full/10.1029/2019GL083731)"
   ]
  },
  {
   "cell_type": "code",
   "execution_count": null,
   "id": "198f2010-81ac-4566-9feb-d70d3a6815fe",
   "metadata": {},
   "outputs": [],
   "source": [
    "%%time \n",
    "# takes 2-3 minutes\n",
    "# compute filter\n",
    "fz_flag = pypwsqc.flagging.fz_filter(\n",
    "    pws_data=ds_pws.rainfall,\n",
    "    nbrs_not_nan=ds_pws.nbrs_not_nan,\n",
    "    reference=ds_pws.reference,\n",
    "    nint=3,\n",
    "    n_stat=5,\n",
    ")\n",
    "\n",
    "#add flag to ds_pws\n",
    "ds_pws[\"fz_flag\"] = fz_flag"
   ]
  },
  {
   "cell_type": "markdown",
   "id": "cb62e982-bfc5-40e3-b754-149331f7bc3b",
   "metadata": {},
   "source": [
    "## High Influx Filter (HI)\n",
    "Conditions for raising High Influx flag:\n",
    "\n",
    "* If median below threshold `ϕA`, then high influx if rainfall above threshold `ϕB`\n",
    "* If median above `ϕA`, then high influx if rainfall exceeds median times `ϕB`/`ϕA`\n",
    "* Filter cannot be applied if less than `nstat` neighbours are reporting data (HI flag is set to -1)\n",
    "\n",
    "For settings for parameter `ϕA`, `ϕB` and `nstat`, see table 1 in [de Vos et al. (2021)](https://agupubs.onlinelibrary.wiley.com/doi/full/10.1029/2019GL083731)"
   ]
  },
  {
   "cell_type": "code",
   "execution_count": null,
   "id": "57d5becd-bd15-4a1e-9bc2-153fbbd4352f",
   "metadata": {},
   "outputs": [],
   "source": [
    "%%time\n",
    "# compute filter\n",
    "hi_flag = pypwsqc.flagging.hi_filter(\n",
    "    pws_data=ds_pws.rainfall,\n",
    "    nbrs_not_nan=ds_pws.nbrs_not_nan,\n",
    "    reference=ds_pws.reference,\n",
    "    hi_thres_a=0.4,\n",
    "    hi_thres_b=10,\n",
    "    n_stat=5,\n",
    ")\n",
    "\n",
    "#add flag to ds_pws\n",
    "ds_pws[\"hi_flag\"] = hi_flag"
   ]
  },
  {
   "cell_type": "markdown",
   "id": "13c74e6c-74c7-48f7-b091-7899b3db0686",
   "metadata": {},
   "source": [
    "## Exercise 2\n",
    "2.1 Plot the occurance of the flags over time and PWS ids.  \n",
    "2.2 Plot a map of the pws and reference stations, and their rainfall sum with and without the flagged data. What is the difference?"
   ]
  },
  {
   "cell_type": "code",
   "execution_count": null,
   "id": "ef90536e-805d-4fb2-b3b8-223bdcd936e7",
   "metadata": {},
   "outputs": [],
   "source": [
    "# 2.1 - your solution here\n",
    "\n"
   ]
  },
  {
   "cell_type": "code",
   "execution_count": null,
   "id": "39715810-c063-4a4e-a0f9-fef904790b12",
   "metadata": {},
   "outputs": [],
   "source": [
    "if input(\"Enter 'Solution' to display solutions: \")=='Solution':\n",
    "    %load solutions/3_2_1_solution.py"
   ]
  },
  {
   "cell_type": "code",
   "execution_count": null,
   "id": "09c7e114-5689-4d01-94e4-2329ef7e4166",
   "metadata": {},
   "outputs": [],
   "source": [
    "# 2.2 - your solution here\n",
    "\n"
   ]
  },
  {
   "cell_type": "code",
   "execution_count": null,
   "id": "5746c063-4641-4896-a7be-f8f956b5ab85",
   "metadata": {},
   "outputs": [],
   "source": [
    "if input(\"Enter 'Solution' to display solutions: \")=='Solution':\n",
    "    %load solutions/3_2_2_solution.py"
   ]
  },
  {
   "cell_type": "markdown",
   "id": "de0b5ebf-732a-42b9-9b6b-0aa360986c0a",
   "metadata": {},
   "source": [
    "## Indicator Correlation Filter (IC)\n",
    "The PWS data needs to be in hourly values as the indocator correlation filter by Bárdossy et al. (2021) does not work with 5 minute data\n",
    "\n",
    "For the aggreation, the new value for an hour is considered as valid if at least 10 out 12 5-min values within one hour have valid data. This can be set by the min count parameter."
   ]
  },
  {
   "cell_type": "code",
   "execution_count": null,
   "id": "f818bd3d-9b84-4f81-9ce6-383dcb634897",
   "metadata": {},
   "outputs": [],
   "source": [
    "ds_pws_hourly = ds_pws.resample(time=\"1h\").sum(min_count=10)\n"
   ]
  },
  {
   "cell_type": "markdown",
   "id": "2f1bb833-3978-415e-80c6-6d4dced7357a",
   "metadata": {},
   "source": [
    "### Indicator correlation vs distance\n",
    "First, we calculate the indicator correlations over distance for the reference data set. This is assumed to be the correct spatial pattern of precipitation which is used for checking the PWS later on."
   ]
  },
  {
   "cell_type": "code",
   "execution_count": null,
   "id": "e4303f7b-a205-4149-ac12-8f0a3aad825e",
   "metadata": {},
   "outputs": [],
   "source": [
    "import pypwsqc.indicator_correlation as ic"
   ]
  },
  {
   "cell_type": "code",
   "execution_count": null,
   "id": "ad596cb2-263c-42eb-8db4-984cc05b6b69",
   "metadata": {},
   "outputs": [],
   "source": [
    "# Distance and indicator correlations of reference data\n",
    "dist_mtx_ref, indcorr_mtx_ref = ic.indicator_distance_matrix(\n",
    "    ds_ref.rainfall,\n",
    "    ds_ref.rainfall,\n",
    "    max_distance=30e3,\n",
    "    prob=0.99,\n",
    "    min_valid_overlap=2 * 24 * 30,\n",
    ")"
   ]
  },
  {
   "cell_type": "code",
   "execution_count": null,
   "id": "9c9e9d34-3994-4b02-861f-66b0beb2e60c",
   "metadata": {},
   "outputs": [],
   "source": [
    "# plot the indicator time series of all reference stations\n",
    "(ds_ref.rainfall>ds_ref.rainfall.quantile(0.99)).plot(figsize=(15,5));"
   ]
  },
  {
   "cell_type": "code",
   "execution_count": null,
   "id": "ffa2f4df-899e-4f0f-80b2-5c9839f24da0",
   "metadata": {},
   "outputs": [],
   "source": [
    "plt.scatter(dist_mtx_ref, indcorr_mtx_ref, color=\"red\", s=10, label=\"Ref\")\n",
    "plt.ylim(0, 1)\n",
    "plt.xlim(0, 30e3)\n",
    "plt.ylabel(\"Indicator Correlation [-]\")\n",
    "plt.xlabel(\"Distance [m]\")\n",
    "plt.title(\"Indicator Correlation vs. Distance for Reference Data\")\n",
    "plt.legend();"
   ]
  },
  {
   "cell_type": "code",
   "execution_count": null,
   "id": "9c8bc46b-43a4-4a46-a9ef-c5397d8c0079",
   "metadata": {},
   "outputs": [],
   "source": [
    "# Distance and indicator correlations of PWS\n",
    "dist_mtx_pws, indcorr_mtx_pws = ic.indicator_distance_matrix(\n",
    "    ds_pws_hourly.rainfall,\n",
    "    ds_pws_hourly.rainfall,\n",
    "    prob=0.99,\n",
    "    max_distance=30e3,\n",
    "    min_valid_overlap=2 * 24 * 30,\n",
    ")"
   ]
  },
  {
   "cell_type": "code",
   "execution_count": null,
   "id": "84b1621c-0693-442d-b309-9920b1eaf24b",
   "metadata": {},
   "outputs": [],
   "source": [
    "plt.scatter(dist_mtx_pws, indcorr_mtx_pws, color=\"b\", alpha=0.2, s=10, label=\"PWS\")\n",
    "plt.scatter(dist_mtx_ref, indcorr_mtx_ref, color=\"red\", s=10, label=\"Ref\")\n",
    "plt.ylim(0, 1)\n",
    "plt.xlim(0, 30e3)\n",
    "plt.ylabel(\"Indicator Correlation [-]\")\n",
    "plt.xlabel(\"Distance [m]\")\n",
    "plt.title(\"Indicator Correlation over Distance for PWS and Reference Data\")\n",
    "plt.legend()\n",
    ";"
   ]
  },
  {
   "cell_type": "markdown",
   "id": "912c0416-1cfe-4dfa-a461-f963f5806cbe",
   "metadata": {},
   "source": [
    "We can see that the PWS data is very \"noisy\", i.e. the indicator correlation of nearby PWS stations is very low which we would not expect from the reference. Such PWS are likely to have data quality issues ans will be removed by the Indicator Correlation Filter."
   ]
  },
  {
   "cell_type": "markdown",
   "id": "30c75337-a712-4e51-94bd-b14add23e7da",
   "metadata": {},
   "source": [
    "Finally the distance and indicator correlations matrices between PWS and reference data are calculated."
   ]
  },
  {
   "cell_type": "code",
   "execution_count": null,
   "id": "dd179e68-7a06-43e5-b2df-1ce60537b665",
   "metadata": {},
   "outputs": [],
   "source": [
    "dist_mtx_ref_pws, indcorr_mtx_ref_pws = ic.indicator_distance_matrix(\n",
    "    da_a=ds_ref.rainfall,\n",
    "    da_b=ds_pws_hourly.rainfall,\n",
    "    prob=0.99,\n",
    "    min_valid_overlap=2 * 24 * 30,\n",
    ")"
   ]
  },
  {
   "cell_type": "markdown",
   "id": "918ee463-a78e-4cd4-b441-d9dc432b73eb",
   "metadata": {},
   "source": [
    "### Apply filter"
   ]
  },
  {
   "cell_type": "code",
   "execution_count": null,
   "id": "a13428aa-1682-435f-b805-bad3685d09f4",
   "metadata": {},
   "outputs": [],
   "source": [
    "indcorr_results = ic.ic_filter(\n",
    "    indicator_correlation_matrix_ref=indcorr_mtx_ref,\n",
    "    distance_correlation_matrix_ref=dist_mtx_ref,\n",
    "    indicator_correlation_matrix=indcorr_mtx_ref_pws,\n",
    "    distance_matrix=dist_mtx_ref_pws,\n",
    "    max_distance=20000,\n",
    "    bin_size=1000,\n",
    "    quantile_bin_ref=0.1,\n",
    "    quantile_bin_pws=0.5,\n",
    "    threshold=0.05,\n",
    ");"
   ]
  },
  {
   "cell_type": "code",
   "execution_count": null,
   "id": "3e2d8fc4-c47e-416c-b404-f80a49e1622e",
   "metadata": {},
   "outputs": [],
   "source": [
    "indcorr_results"
   ]
  },
  {
   "cell_type": "markdown",
   "id": "38dc852a-8be4-46fb-8545-a0fd69c60907",
   "metadata": {},
   "source": [
    "The results are returned as `xarray.Dataset` with four variables:\n",
    "\n",
    "`indcorr`: Indicator correlation matrix between `Ref` and `PWS`\n",
    "\n",
    "`dist`: Distance matrix between `Ref` and `PWS`\n",
    "\n",
    "`indcorr_good`: Bool Array indicating whether a PWS was accepted ('True') or rejected ('False') by the filter\n",
    "\n",
    "`indcorr_score`: A metric which indicates how well a PWS fit's into the correlation structure of the Reference"
   ]
  },
  {
   "cell_type": "code",
   "execution_count": null,
   "id": "f4d0c97f-577f-4a24-b4c4-64f012ceffb5",
   "metadata": {},
   "outputs": [],
   "source": [
    "print(\n",
    "    str(indcorr_results.indcorr_good.data.sum())\n",
    "    + \" of \"\n",
    "    + str(len(indcorr_results.indcorr_good))\n",
    "    + \" PWS were accepted\"\n",
    ")"
   ]
  },
  {
   "cell_type": "markdown",
   "id": "2f512af4-7f18-462a-96fe-2ee772f063cf",
   "metadata": {},
   "source": [
    "## Exercise 3\n",
    "3.1 Plot time series of following pws and colorize their points in the ic vs distane plot: 'ams74', 'ams134', 'ams113', 'ams36'.      \n",
    "3.2 Check if these pws where flagged by the FZ or HI filter.  \n",
    "3.3 Find the PWS with the most HI flags and show add it to the list of ids.  "
   ]
  },
  {
   "cell_type": "code",
   "execution_count": null,
   "id": "430e2c69-2690-4109-88d4-7e079900a9a1",
   "metadata": {},
   "outputs": [],
   "source": [
    "# 3. your solution here\n",
    "\n"
   ]
  },
  {
   "cell_type": "code",
   "execution_count": null,
   "id": "e9d2bb9b-de1a-40da-8fe9-49747d6e9bec",
   "metadata": {},
   "outputs": [],
   "source": [
    "%matplotlib widget"
   ]
  },
  {
   "cell_type": "code",
   "execution_count": null,
   "id": "bc599b62-8367-4824-a153-efa523826615",
   "metadata": {},
   "outputs": [],
   "source": [
    "# %load solutions/3_3_1-3_solution.py\n",
    "if input(\"Enter 'Solution' to display solutions: \")=='Solution':\n",
    "    %load solutions/3_3_1-3_solution.py"
   ]
  },
  {
   "cell_type": "code",
   "execution_count": null,
   "id": "f2a9d785-f228-40ba-b224-6a263466a6af",
   "metadata": {},
   "outputs": [],
   "source": []
  }
 ],
 "metadata": {
  "kernelspec": {
   "display_name": "Python 3 (ipykernel)",
   "language": "python",
   "name": "python3"
  },
  "language_info": {
   "codemirror_mode": {
    "name": "ipython",
    "version": 3
   },
   "file_extension": ".py",
   "mimetype": "text/x-python",
   "name": "python",
   "nbconvert_exporter": "python",
   "pygments_lexer": "ipython3",
   "version": "3.11.11"
  }
 },
 "nbformat": 4,
 "nbformat_minor": 5
}
