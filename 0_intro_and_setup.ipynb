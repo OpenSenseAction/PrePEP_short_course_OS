{
 "cells": [
  {
   "cell_type": "code",
   "execution_count": 1,
   "metadata": {},
   "outputs": [],
   "source": [
    "import sys\n",
    "\n",
    "sys.path.append('poligrain/src')\n",
    "sys.path.append('pycomlink/pycomlink')\n",
    "sys.path.append('pypwsqc/src')"
   ]
  },
  {
   "cell_type": "code",
   "execution_count": 2,
   "metadata": {},
   "outputs": [],
   "source": [
    "import poligrain as plg\n",
    "import pypwsqc\n",
    "import pycomlink as pycml"
   ]
  }
 ],
 "metadata": {
  "kernelspec": {
   "display_name": "prepep_os_processing",
   "language": "python",
   "name": "python3"
  },
  "language_info": {
   "codemirror_mode": {
    "name": "ipython",
    "version": 3
   },
   "file_extension": ".py",
   "mimetype": "text/x-python",
   "name": "python",
   "nbconvert_exporter": "python",
   "pygments_lexer": "ipython3",
   "version": "3.11.11"
  }
 },
 "nbformat": 4,
 "nbformat_minor": 2
}
