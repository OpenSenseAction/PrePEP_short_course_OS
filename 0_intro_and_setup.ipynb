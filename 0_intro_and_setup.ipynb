{
 "cells": [
  {
   "cell_type": "code",
   "execution_count": 1,
   "metadata": {},
   "outputs": [],
   "source": [
    "import sys\n",
    "\n",
    "sys.path.append('poligrain/src')\n",
    "sys.path.append('pycomlink/pycomlink')\n",
    "sys.path.append('pypwsqc/src')"
   ]
  },
  {
   "cell_type": "code",
   "execution_count": 2,
   "metadata": {},
   "outputs": [],
   "source": [
    "import poligrain as plg\n",
    "import pypwsqc\n",
    "import pycomlink as pycml"
   ]
  },
  {
   "cell_type": "code",
   "execution_count": 3,
   "metadata": {},
   "outputs": [
    {
     "ename": "AttributeError",
     "evalue": "module 'pycomlink' has no attribute 'processing'",
     "output_type": "error",
     "traceback": [
      "\u001b[31m---------------------------------------------------------------------------\u001b[39m",
      "\u001b[31mAttributeError\u001b[39m                            Traceback (most recent call last)",
      "\u001b[36mCell\u001b[39m\u001b[36m \u001b[39m\u001b[32mIn[3]\u001b[39m\u001b[32m, line 3\u001b[39m\n\u001b[32m      1\u001b[39m plg.plot_map\n\u001b[32m      2\u001b[39m pypwsqc.flagging.hi_filter\n\u001b[32m----> \u001b[39m\u001b[32m3\u001b[39m \u001b[43mpycml\u001b[49m\u001b[43m.\u001b[49m\u001b[43mprocessing\u001b[49m\n",
      "\u001b[31mAttributeError\u001b[39m: module 'pycomlink' has no attribute 'processing'"
     ]
    }
   ],
   "source": [
    "plg.plot_map\n",
    "pypwsqc.flagging.hi_filter\n",
    "pycml.processing"
   ]
  },
  {
   "cell_type": "code",
   "execution_count": null,
   "metadata": {},
   "outputs": [],
   "source": []
  },
  {
   "cell_type": "code",
   "execution_count": null,
   "metadata": {},
   "outputs": [],
   "source": []
  }
 ],
 "metadata": {
  "kernelspec": {
   "display_name": "prepep_os_processing",
   "language": "python",
   "name": "python3"
  },
  "language_info": {
   "codemirror_mode": {
    "name": "ipython",
    "version": 3
   },
   "file_extension": ".py",
   "mimetype": "text/x-python",
   "name": "python",
   "nbconvert_exporter": "python",
   "pygments_lexer": "ipython3",
   "version": "3.11.11"
  }
 },
 "nbformat": 4,
 "nbformat_minor": 2
}
