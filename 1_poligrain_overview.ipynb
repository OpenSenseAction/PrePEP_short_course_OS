{
 "cells": [
  {
   "cell_type": "markdown",
   "metadata": {},
   "source": [
    "# Overview of the `poligrain` package"
   ]
  },
  {
   "cell_type": "code",
   "execution_count": null,
   "metadata": {},
   "outputs": [],
   "source": [
    "import sys\n",
    "\n",
    "sys.path.append('poligrain/src')"
   ]
  },
  {
   "cell_type": "markdown",
   "metadata": {},
   "source": []
  },
  {
   "cell_type": "code",
   "execution_count": null,
   "metadata": {},
   "outputs": [],
   "source": [
    "import matplotlib.pyplot as plt\n",
    "import poligrain as plg"
   ]
  },
  {
   "cell_type": "markdown",
   "metadata": {},
   "source": [
    "## Get OpenMRG example data"
   ]
  },
  {
   "cell_type": "markdown",
   "metadata": {},
   "source": [
    "<img src=\"https://essd.copernicus.org/articles/14/5411/2022/essd-14-5411-2022-f02-web.png\" alt=\"drawing\" width=\"300\"/>\n"
   ]
  },
  {
   "cell_type": "markdown",
   "metadata": {},
   "source": [
    "We download a subset of the OpenMRG dataset which is described in Andersson et al. (2022) here https://doi.org/10.5194/essd-14-5411-2022 and which is available for download at https://doi.org/10.5281/zenodo.6673750\n",
    "\n",
    "The subset that we use was already processed, in particular the CML data, but with a very basic processing.\n",
    "\n",
    "In addition, here, we will project the lon-lat coordinates in the fitting UTM zone, so that we can do correct distance calculations."
   ]
  },
  {
   "cell_type": "code",
   "execution_count": null,
   "metadata": {},
   "outputs": [],
   "source": [
    "(\n",
    "    ds_rad,\n",
    "    ds_cmls,\n",
    "    ds_gauges_municp,\n",
    "    ds_gauge_smhi,\n",
    ") = plg.example_data.load_openmrg(data_dir=\"example_data\")"
   ]
  },
  {
   "cell_type": "markdown",
   "metadata": {},
   "source": [
    "### Project coordinates to UTM"
   ]
  },
  {
   "cell_type": "code",
   "execution_count": null,
   "metadata": {},
   "outputs": [],
   "source": [
    "# Project coordinates for rain gauges\n",
    "ds_gauges_municp.coords[\"x\"], ds_gauges_municp.coords[\"y\"] = plg.spatial.project_point_coordinates(\n",
    "    ds_gauges_municp.lon, ds_gauges_municp.lat, \"EPSG:25832\"\n",
    ")\n",
    "ds_gauge_smhi.coords[\"x\"], ds_gauge_smhi.coords[\"y\"] = plg.spatial.project_point_coordinates(\n",
    "    ds_gauge_smhi.lon, ds_gauge_smhi.lat, \"EPSG:25832\"\n",
    ")\n",
    "\n",
    "# Project coordinates for CMLs\n",
    "(\n",
    "    ds_cmls.coords[\"site_0_x\"],\n",
    "    ds_cmls.coords[\"site_0_y\"],\n",
    ") = plg.spatial.project_point_coordinates(\n",
    "    ds_cmls.site_0_lon, ds_cmls.site_0_lat, \"EPSG:25832\"\n",
    ")\n",
    "(\n",
    "    ds_cmls.coords[\"site_1_x\"],\n",
    "    ds_cmls.coords[\"site_1_y\"],\n",
    ") = plg.spatial.project_point_coordinates(\n",
    "    ds_cmls.site_1_lon, ds_cmls.site_1_lat, \"EPSG:25832\"\n",
    ")"
   ]
  },
  {
   "cell_type": "markdown",
   "metadata": {},
   "source": [
    "## Intro to data model\n",
    "\n",
    "In OPENSENSE we agreed on a specific structure and naming convention for storing data in NetCDF, which translates to the respective `xarray.Dataset` objects."
   ]
  },
  {
   "cell_type": "markdown",
   "metadata": {},
   "source": [
    "### CML data"
   ]
  },
  {
   "cell_type": "code",
   "execution_count": null,
   "metadata": {},
   "outputs": [],
   "source": [
    "ds_cmls"
   ]
  },
  {
   "cell_type": "markdown",
   "metadata": {},
   "source": [
    "### Gauge data"
   ]
  },
  {
   "cell_type": "code",
   "execution_count": null,
   "metadata": {},
   "outputs": [],
   "source": [
    "ds_gauges_municp"
   ]
  },
  {
   "cell_type": "markdown",
   "metadata": {},
   "source": [
    "###  Radar data (on cartesian grid)"
   ]
  },
  {
   "cell_type": "code",
   "execution_count": null,
   "metadata": {},
   "outputs": [],
   "source": [
    "ds_rad"
   ]
  },
  {
   "cell_type": "markdown",
   "metadata": {},
   "source": [
    "## Quick look at CML data"
   ]
  },
  {
   "cell_type": "markdown",
   "metadata": {},
   "source": [
    "Look at RSL, TSL and R of a specific CML"
   ]
  },
  {
   "cell_type": "code",
   "execution_count": null,
   "metadata": {},
   "outputs": [],
   "source": [
    "i = 7\n",
    "\n",
    "fig, axs = plt.subplots(3, 1, figsize=(12, 8))\n",
    "ds_cmls.isel(cml_id=i).rsl.plot.line(x='time', ax=axs[0])\n",
    "ds_cmls.isel(cml_id=i).tsl.plot.line(x='time', ax=axs[1])\n",
    "ds_cmls.isel(cml_id=i).R.plot.line(x='time', ax=axs[2])\n",
    "[ax.set_title('') for ax in axs]\n",
    "axs[0].set_title(f'CML ID: {ds_cmls.isel(cml_id=i).cml_id.data}')\n",
    "axs[0].set_xlabel('')\n",
    "axs[1].set_xlabel('');"
   ]
  },
  {
   "cell_type": "markdown",
   "metadata": {},
   "source": [
    "## Excercise 1: Look at data from different CMLs\n",
    "\n",
    "Reuse the plot from above and test with selecting different CMLs\n",
    "\n",
    "Questions:\n",
    "- What do you observe?\n",
    "- Also look closely at the small rain rates values. Hint: You can change the y-scale of the rain rate plot with `axs[2].set_ylim(0, 5)`"
   ]
  },
  {
   "cell_type": "markdown",
   "metadata": {},
   "source": [
    "## Plot hourly rainfall sums for all CMLs"
   ]
  },
  {
   "cell_type": "code",
   "execution_count": null,
   "metadata": {},
   "outputs": [],
   "source": [
    "da_R = ds_cmls.R.isel(sublink_id=0)#\n",
    "da_R.resample(time='1h').mean().plot.line(x='time', add_legend=False, figsize=(12, 4));"
   ]
  },
  {
   "cell_type": "markdown",
   "metadata": {},
   "source": [
    "## Plot data on a map"
   ]
  },
  {
   "cell_type": "markdown",
   "metadata": {},
   "source": [
    "Because plotting lines with a colormap is not as easy as plotting points or gridded data, `poligrain` provides plotting functions that deal with the line geometry. Because we assume a fixed structure and naming convention of our `xarray.Dataset` we can do a lot of cumbersome stuff inside the function. See it in action below."
   ]
  },
  {
   "cell_type": "markdown",
   "metadata": {},
   "source": [
    "CML rain rates for a selected time stamp"
   ]
  },
  {
   "cell_type": "code",
   "execution_count": null,
   "metadata": {},
   "outputs": [],
   "source": [
    "da_R = ds_cmls.R.isel(sublink_id=0).sel(time='2015-07-25 10:00:00')\n",
    "\n",
    "fig, ax = plt.subplots(figsize=(5, 4))\n",
    "lines = da_R.plg.plot_cmls(pad_width=1, vmin=0, vmax=5, ax=ax, use_lon_lat=True)\n",
    "plt.colorbar(lines, label=\"rainfall rate in mm/h\");"
   ]
  },
  {
   "cell_type": "markdown",
   "metadata": {},
   "source": [
    "Rainfall sums over full period for radar, CMLs and gauges"
   ]
  },
  {
   "cell_type": "code",
   "execution_count": null,
   "metadata": {},
   "outputs": [],
   "source": [
    "plg.plot_map.plot_plg(\n",
    "    da_grid=ds_rad.R.resample(time='1h').mean().sum(dim=\"time\"),\n",
    "    da_gauges=ds_gauges_municp.rainfall_amount.sum(dim=\"time\"),\n",
    "    use_lon_lat=True,\n",
    "    da_cmls=ds_cmls.isel(sublink_id=0).R.resample(time='1h').mean().sum(dim=\"time\"),\n",
    "    vmin=0,\n",
    "    vmax=100,\n",
    ")"
   ]
  },
  {
   "cell_type": "markdown",
   "metadata": {},
   "source": [
    "## Extract radar along CML paths and compare data"
   ]
  },
  {
   "cell_type": "markdown",
   "metadata": {},
   "source": [
    "Similar to the `wradlib.adjust.RawAtObs` we provide functions to get data of a grid at specific points using `plg.spatial.GridAtPoints`. Since we also deal with line geometries of the CMLs (and also SMls) we provide `GridAtLines` to extract the path-averaged grid values along the intersection with a specific line."
   ]
  },
  {
   "cell_type": "code",
   "execution_count": null,
   "metadata": {},
   "outputs": [],
   "source": [
    "get_grid_at_lines = plg.spatial.GridAtLines(\n",
    "    da_gridded_data=ds_rad,\n",
    "    ds_line_data=ds_cmls,\n",
    ")"
   ]
  },
  {
   "cell_type": "code",
   "execution_count": null,
   "metadata": {},
   "outputs": [],
   "source": [
    "radar_along_cml = get_grid_at_lines(da_gridded_data=ds_rad.R)"
   ]
  },
  {
   "cell_type": "code",
   "execution_count": null,
   "metadata": {},
   "outputs": [],
   "source": [
    "radar_along_cml"
   ]
  },
  {
   "cell_type": "markdown",
   "metadata": {},
   "source": [
    "Aggregate to hourly rainfall for comparison"
   ]
  },
  {
   "cell_type": "code",
   "execution_count": null,
   "metadata": {},
   "outputs": [],
   "source": [
    "radar_along_cml_R_1h = radar_along_cml.resample(time='1h').mean()\n",
    "cmls_R_1h = ds_cmls.R.isel(sublink_id=0).resample(time='1h').mean()"
   ]
  },
  {
   "cell_type": "code",
   "execution_count": null,
   "metadata": {},
   "outputs": [],
   "source": [
    "cml_id = 10030\n",
    "\n",
    "cmls_R_1h.sel(cml_id=cml_id).plot(color='k', figsize=(12, 5), label='CML')\n",
    "radar_along_cml_R_1h.sel(cml_id=cml_id).plot(color='r', label='radar')\n",
    "plt.legend()\n",
    "plt.ylabel('hourly rainfall sum (mm)');"
   ]
  },
  {
   "cell_type": "markdown",
   "metadata": {},
   "source": [
    "Plot path-averaged radar rain rates for each CML and the processed CML rain rates"
   ]
  },
  {
   "cell_type": "code",
   "execution_count": null,
   "metadata": {},
   "outputs": [],
   "source": [
    "fig, axs = plt.subplots(1, 2, figsize=(12, 5))\n",
    "plg.plot_map.plot_plg(\n",
    "    da_cmls=radar_along_cml_R_1h.sum(dim='time'), \n",
    "    ax=axs[0], \n",
    "    vmin=0, \n",
    "    vmax=100,\n",
    ")\n",
    "plg.plot_map.plot_plg(\n",
    "    da_cmls=cmls_R_1h.sum(dim='time'), \n",
    "    ax=axs[1],\n",
    "    vmin=0,\n",
    "    vmax=100,\n",
    ")"
   ]
  },
  {
   "cell_type": "markdown",
   "metadata": {},
   "source": [
    "## Excercise 2: Analyse difference between radar and CML\n",
    "\n",
    "- 2.1: Do a scatter plot (`plt.scatter`) of the total rainfall sums for both radar and CML data. What do you observe?\n",
    "\n",
    "- 2.2: Calculate the difference between radar and CML rainfall sums. Plot this difference as a map using `plg.plot_map.plot_plg`\n",
    "\n",
    "- 2.3 (optional): What is wrong with the outliers of the CMLs?"
   ]
  },
  {
   "cell_type": "markdown",
   "metadata": {},
   "source": [
    "### Exercise 2.1"
   ]
  },
  {
   "cell_type": "code",
   "execution_count": null,
   "metadata": {},
   "outputs": [],
   "source": [
    "# Write code here...\n",
    "\n",
    "\n",
    "\n",
    "\n"
   ]
  },
  {
   "cell_type": "code",
   "execution_count": null,
   "metadata": {},
   "outputs": [],
   "source": [
    "if input(\"Enter 'Solution' to display solutions: \")=='Solution':\n",
    "    %load solutions/1_2_1_solution.py"
   ]
  },
  {
   "cell_type": "markdown",
   "metadata": {},
   "source": [
    "### Exercise 2.2"
   ]
  },
  {
   "cell_type": "code",
   "execution_count": null,
   "metadata": {},
   "outputs": [],
   "source": [
    "# Write code here...\n",
    "\n",
    "\n",
    "\n",
    "\n",
    "\n"
   ]
  },
  {
   "cell_type": "code",
   "execution_count": null,
   "metadata": {},
   "outputs": [],
   "source": [
    "if input(\"Enter 'Solution' to display solutions: \")=='Solution':\n",
    "    %load solutions/1_2_2_solution.py"
   ]
  },
  {
   "cell_type": "markdown",
   "metadata": {},
   "source": [
    "### Exercise 2.3"
   ]
  },
  {
   "cell_type": "code",
   "execution_count": null,
   "metadata": {},
   "outputs": [],
   "source": [
    "# Write code here...\n",
    "\n",
    "\n",
    "\n",
    "\n",
    "\n"
   ]
  },
  {
   "cell_type": "code",
   "execution_count": null,
   "metadata": {},
   "outputs": [],
   "source": [
    "if input(\"Enter 'Solution' to display solutions: \")=='Solution':\n",
    "    %load solutions/1_2_3_solution.py"
   ]
  },
  {
   "cell_type": "markdown",
   "metadata": {},
   "source": [
    "## Find gauges close to CMLs and compare data"
   ]
  },
  {
   "cell_type": "markdown",
   "metadata": {},
   "source": [
    "`poligrain` provides functions to find the closest points (gauges in this case) to a line (CMLs). Getting closest points for a point is also supported via `plg.spatial.get_closest_points_to_point`."
   ]
  },
  {
   "cell_type": "code",
   "execution_count": null,
   "metadata": {},
   "outputs": [],
   "source": [
    "max_distance = 2000  # in meters due to the projection EPSG:25832\n",
    "closest_neigbors = plg.spatial.get_closest_points_to_line(\n",
    "    ds_cmls, ds_gauges_municp, max_distance=max_distance, n_closest=10\n",
    ")"
   ]
  },
  {
   "cell_type": "code",
   "execution_count": null,
   "metadata": {},
   "outputs": [],
   "source": [
    "closest_neigbors"
   ]
  },
  {
   "cell_type": "markdown",
   "metadata": {},
   "source": [
    "Plot distance of closest neighour for some CMLs"
   ]
  },
  {
   "cell_type": "code",
   "execution_count": null,
   "metadata": {},
   "outputs": [],
   "source": [
    "closest_neigbors.isel(cml_id=slice(0, 60)).distance.plot();"
   ]
  },
  {
   "cell_type": "markdown",
   "metadata": {},
   "source": [
    "Plot closest gauges for a CML on the map"
   ]
  },
  {
   "cell_type": "code",
   "execution_count": null,
   "metadata": {},
   "outputs": [],
   "source": [
    "# plot CMLs and gauges on map and highlight those that are closer than 5000m\n",
    "cml_id = 10030\n",
    "\n",
    "# hacky way to get bool array with closest gauges set to True\n",
    "da_gauges_close = (ds_gauges_municp.id == closest_neigbors.neighbor_id.sel(cml_id=cml_id)).max(dim='n_closest')\n",
    "\n",
    "fig, ax = plt.subplots()\n",
    "plg.plot_map.plot_lines(ds_cmls, line_color='k', ax=ax)\n",
    "plg.plot_map.plot_lines(ds_cmls.sel(cml_id=cml_id), line_color='r', line_width=2, ax=ax)\n",
    "# hacky way to plot the gauges highligting the close ones\n",
    "plg.plot_map.plot_plg(da_gauges=da_gauges_close, ax=ax, vmin=0, vmax=2, cmap='Reds')\n"
   ]
  },
  {
   "cell_type": "markdown",
   "metadata": {},
   "source": [
    "Plot rainfall time series for CML and closest gauges"
   ]
  },
  {
   "cell_type": "code",
   "execution_count": null,
   "metadata": {},
   "outputs": [],
   "source": [
    "cml_id = 10030\n",
    "ds_closests_gauges = (\n",
    "    ds_gauges_municp.sel(id=closest_neigbors.sel(cml_id=cml_id).neighbor_id.values[:3])\n",
    ")\n",
    "ds_closests_gauges.rainfall_amount.resample(time='1h').sum().plot.line(x='time', figsize=(12, 5))\n",
    "ds_cmls.isel(sublink_id=0).sel(cml_id=cml_id).R.resample(time='1h').mean().plot(color='k')\n",
    "plt.ylabel('hourly rainfall sum (mm)');"
   ]
  },
  {
   "cell_type": "markdown",
   "metadata": {},
   "source": [
    "Let's zoom in and plot the data with the original temporal resolution"
   ]
  },
  {
   "cell_type": "code",
   "execution_count": null,
   "metadata": {},
   "outputs": [],
   "source": [
    "cml_id = 10030\n",
    "ds_closests_gauges = (\n",
    "    ds_gauges_municp.sel(id=closest_neigbors.sel(cml_id=cml_id).neighbor_id.values[:3])\n",
    ")\n",
    "(ds_closests_gauges.sel(time='2015-07-25').rainfall_amount * 60).plot.line(x='time', figsize=(12, 5))\n",
    "ds_cmls.isel(sublink_id=0).sel(cml_id=cml_id, time='2015-07-25').R.plot(color='k')\n",
    "plt.ylabel('rain rate (mm/h)');"
   ]
  },
  {
   "cell_type": "markdown",
   "metadata": {},
   "source": [
    "If we aggregate the gauge to 5-minute rain rates we some more dynamics in the gauge data."
   ]
  },
  {
   "cell_type": "code",
   "execution_count": null,
   "metadata": {},
   "outputs": [],
   "source": [
    "cml_id = 10030\n",
    "ds_closests_gauges = (\n",
    "    ds_gauges_municp.sel(id=closest_neigbors.sel(cml_id=cml_id).neighbor_id.values[:3])\n",
    ")\n",
    "(ds_closests_gauges.sel(time='2015-07-25').rainfall_amount.resample(time='5min').sum() * 12).plot.line(x='time', figsize=(12, 5))\n",
    "ds_cmls.isel(sublink_id=0).sel(cml_id=cml_id, time='2015-07-25').R.plot(color='k')\n",
    "plt.ylabel('rain rate (mm/h)');"
   ]
  },
  {
   "cell_type": "markdown",
   "metadata": {},
   "source": [
    "## Excercise 3 (optional): Compare CML to gauges within 2 km"
   ]
  },
  {
   "cell_type": "markdown",
   "metadata": {},
   "source": [
    "- Exercise 3.1: Do a scatter plot of of the 1-hour rainfall amounts from the closest gauge to each CML.\n",
    "\n",
    "- Exercise 3.2: Add the radar at the CML to the scatter plot"
   ]
  },
  {
   "cell_type": "markdown",
   "metadata": {},
   "source": [
    "The following code gives you, for each CML, the ID of the closest gauge if there is a gauge within 2 km range from the CML path.\n",
    "\n",
    "Note that CMLs with no gauge withon 2km have been dropped here. Hence, the length of `gauge_id_closest` and `closest_neigbors` is different in the `cml_id` dimension."
   ]
  },
  {
   "cell_type": "code",
   "execution_count": null,
   "metadata": {},
   "outputs": [],
   "source": [
    "gauge_id_closest = closest_neigbors.neighbor_id.where(closest_neigbors.distance < 2000, drop=True).isel(n_closest=0)\n",
    "gauge_id_closest"
   ]
  },
  {
   "cell_type": "markdown",
   "metadata": {},
   "source": [
    "### Exercise 3.1"
   ]
  },
  {
   "cell_type": "code",
   "execution_count": null,
   "metadata": {},
   "outputs": [],
   "source": [
    "# Write code here...\n",
    "\n",
    "\n",
    "\n",
    "\n"
   ]
  },
  {
   "cell_type": "code",
   "execution_count": null,
   "metadata": {},
   "outputs": [],
   "source": [
    "if input(\"Enter 'Solution' to display solutions: \")=='Solution':\n",
    "    %load solutions/1_3_1_solution.py"
   ]
  },
  {
   "cell_type": "code",
   "execution_count": null,
   "metadata": {},
   "outputs": [],
   "source": [
    "# Write code here...\n",
    "\n",
    "\n",
    "\n",
    "\n"
   ]
  },
  {
   "cell_type": "code",
   "execution_count": null,
   "metadata": {},
   "outputs": [],
   "source": [
    "if input(\"Enter 'Solution' to display solutions: \")=='Solution':\n",
    "    %load solutions/1_3_2_solution.py"
   ]
  },
  {
   "cell_type": "markdown",
   "metadata": {},
   "source": [
    "## Validation metrics and plots"
   ]
  },
  {
   "cell_type": "markdown",
   "metadata": {},
   "source": [
    "`poligrain` provides plots and the calculation of standard metrics for validating the results. In particular the options for validating rain event detection are quite unique (probably because this very important for CML data processing and less important for radars ans gauges)."
   ]
  },
  {
   "cell_type": "code",
   "execution_count": null,
   "metadata": {},
   "outputs": [],
   "source": [
    "radar_along_cml_R_1h = radar_along_cml.resample(time='1h').mean().transpose()\n",
    "R_cml_1h = ds_cmls.isel(sublink_id=0).R.resample(time='1h').mean()"
   ]
  },
  {
   "cell_type": "code",
   "execution_count": null,
   "metadata": {},
   "outputs": [],
   "source": [
    "R_threshold = 0.1\n",
    "\n",
    "plg.validation.plot_hexbin(\n",
    "    radar_along_cml_R_1h.data.flatten(),\n",
    "    R_cml_1h.data.flatten(),\n",
    "    ref_thresh=R_threshold,\n",
    "    est_thresh=R_threshold,\n",
    ")"
   ]
  },
  {
   "cell_type": "code",
   "execution_count": null,
   "metadata": {},
   "outputs": [],
   "source": [
    "rainfall_metrics = plg.validation.calculate_rainfall_metrics(\n",
    "    reference=radar_along_cml_R_1h.data.flatten(),\n",
    "    estimate=R_cml_1h.data.flatten(),\n",
    "    ref_thresh=0.1,\n",
    "    est_thresh=0.1,\n",
    ")\n",
    "rainfall_metrics"
   ]
  },
  {
   "cell_type": "code",
   "execution_count": null,
   "metadata": {},
   "outputs": [],
   "source": [
    "plg.validation.plot_confusion_matrix_count(\n",
    "    reference=radar_along_cml_R_1h.data.flatten(),\n",
    "    estimate=R_cml_1h.data.flatten(),\n",
    "    ref_thresh=0.1,\n",
    "    est_thresh=0.1,\n",
    "    n_bins=1000,\n",
    "    bin_type='linear',\n",
    ");\n",
    "#plt.gca().set_xscale(\"linear\")\n",
    "#plt.gca().set_yscale(\"log\")\n",
    "plt.xlim([0.09, 10])"
   ]
  },
  {
   "cell_type": "code",
   "execution_count": null,
   "metadata": {},
   "outputs": [],
   "source": [
    "plg.validation.plot_confusion_matrix_sum(\n",
    "    reference=radar_along_cml_R_1h.data.flatten(),\n",
    "    estimate=R_cml_1h.data.flatten(),\n",
    "    ref_thresh=0.1,\n",
    "    est_thresh=0.1,\n",
    "    n_bins=1000,\n",
    "    bin_type='linear',\n",
    "    time_interval=60,\n",
    ");\n",
    "#plt.gca().set_xscale(\"linear\")\n",
    "#plt.gca().set_yscale(\"log\")\n",
    "plt.xlim([0.09, 10])"
   ]
  },
  {
   "cell_type": "markdown",
   "metadata": {},
   "source": [
    "## Other example datasets"
   ]
  },
  {
   "cell_type": "markdown",
   "metadata": {},
   "source": [
    "### OpenRainER"
   ]
  },
  {
   "cell_type": "markdown",
   "metadata": {},
   "source": [
    "CML, gauge and radar data from Emiliga Romana (Italy)\n",
    "\n",
    "Available at https://zenodo.org/records/14731404 \n",
    "\n",
    "Some info from the OPENSENSE news page: https://opensenseaction.eu/news/new-open-cml-dataset-from-italy-openrainer/\n",
    "\n",
    "\n",
    "<img src=\"https://opensenseaction.eu/wp-content/uploads/2024/03/OpenRainER.jpg\" alt=\"drawing\" width=\"600\"/>\n"
   ]
  },
  {
   "cell_type": "code",
   "execution_count": null,
   "metadata": {},
   "outputs": [],
   "source": [
    "(\n",
    "    ds_rad,\n",
    "    ds_cmls,\n",
    "    ds_gauges\n",
    ") = plg.example_data.load_openrainer(data_dir=\"example_data\", subset='8d')"
   ]
  },
  {
   "cell_type": "code",
   "execution_count": null,
   "metadata": {},
   "outputs": [],
   "source": [
    "plg.plot_map.plot_lines(ds_cmls.rsl.isel(sublink_id=0).std(dim='time'), vmin=0, vmax=5)"
   ]
  },
  {
   "cell_type": "code",
   "execution_count": null,
   "metadata": {},
   "outputs": [],
   "source": [
    "ds_cmls.isel(cml_id=0).rsl.plot.line(x='time', figsize=(12, 3));"
   ]
  },
  {
   "cell_type": "markdown",
   "metadata": {},
   "source": [
    "### Amsterdam PWS dataset"
   ]
  },
  {
   "cell_type": "markdown",
   "metadata": {},
   "source": [
    "This is not yet availalbe via `poligrain`. You will use it in the PWS excercises, via a custom download and parsing process."
   ]
  },
  {
   "cell_type": "markdown",
   "metadata": {},
   "source": []
  }
 ],
 "metadata": {
  "kernelspec": {
   "display_name": "Python 3 (ipykernel)",
   "language": "python",
   "name": "python3"
  },
  "language_info": {
   "codemirror_mode": {
    "name": "ipython",
    "version": 3
   },
   "file_extension": ".py",
   "mimetype": "text/x-python",
   "name": "python",
   "nbconvert_exporter": "python",
   "pygments_lexer": "ipython3",
   "version": "3.11.11"
  }
 },
 "nbformat": 4,
 "nbformat_minor": 4
}
