{
 "cells": [
  {
   "cell_type": "markdown",
   "id": "3024b42f-2366-49d9-a030-862977841cfa",
   "metadata": {
    "tags": []
   },
   "source": [
    "# Rainfall maps from CML data and merging with radar data\n",
    "___\n",
    "<img src=\"https://hess.copernicus.org/articles/24/2931/2020/hess-24-2931-2020-f07-web.png\" alt=\"drawing\" width=\"800\"/>"
   ]
  },
  {
   "cell_type": "markdown",
   "id": "998fbded-5868-487f-affd-4346f2c19240",
   "metadata": {
    "tags": []
   },
   "source": [
    "Accumulated rainfall for a 48 hour show case from 12 to 14 May 2018 for a) RADOLAN-RW, a gauge ajdusted radar product from the German Weaterh Service and b) CML derived rainfall interpolated using inverse distance weighting [Graf et al. 2020](https://hess.copernicus.org/articles/24/2931/2020/).     "
   ]
  },
  {
   "cell_type": "code",
   "execution_count": null,
   "id": "bb733d2c-d41c-464f-bee1-e84bdb617762",
   "metadata": {},
   "outputs": [],
   "source": [
    "%load_ext autoreload\n",
    "%autoreload 2\n",
    "%matplotlib inline\n",
    "import sys\n",
    "sys.path.append('pycomlink/src')\n",
    "sys.path.append('poligrain/src')\n",
    "import xarray as xr\n",
    "import pycomlink as pycml\n",
    "import pycomlink.pycomlink.spatial as spatial\n",
    "import poligrain as plg\n",
    "import matplotlib.pyplot as plt\n",
    "import numpy as np\n",
    "import tqdm"
   ]
  },
  {
   "cell_type": "code",
   "execution_count": null,
   "id": "592bf74a-d52e-4dd7-9846-2f63c68d39f8",
   "metadata": {},
   "outputs": [],
   "source": [
    "ds_cml = xr.open_dataset('example_data/openmrg_cml_5min_2h.nc')"
   ]
  },
  {
   "cell_type": "code",
   "execution_count": null,
   "id": "ca7b9bc8-d2ff-4925-9b0a-19542e6ce689",
   "metadata": {},
   "outputs": [],
   "source": [
    "# check mean cml rainfall\n",
    "ds_cml.R.mean(dim='cml_id').plot()"
   ]
  },
  {
   "cell_type": "markdown",
   "id": "61ec3f3b-93ce-42f4-b1ed-54b867b4ec4b",
   "metadata": {},
   "source": [
    "# Interpolate rainfall maps"
   ]
  },
  {
   "cell_type": "code",
   "execution_count": null,
   "id": "4db3e3c6-d79b-487d-a2c2-a3429ff5a13b",
   "metadata": {},
   "outputs": [],
   "source": [
    "# beware: \n",
    "# - the lat and lon coordinates should be converted to UTM (we skip this part)\n",
    "# - using the link midpoint is an approximation, more advanced teqniques exists. "
   ]
  },
  {
   "cell_type": "markdown",
   "id": "5c122f31-81a2-489e-9701-d1584129e3a1",
   "metadata": {},
   "source": [
    "<img src=\"https://gisgeography.com/wp-content/uploads/2016/05/IDW-3Points.png\" alt=\"drawing\" width=\"600\"/>\n"
   ]
  },
  {
   "cell_type": "code",
   "execution_count": null,
   "id": "3051fb06-cc05-4ed3-af82-e4f0f1ce2a76",
   "metadata": {},
   "outputs": [],
   "source": [
    "# define timestep \n",
    "time = '2015-07-25 13:25'\n",
    "# load radar reference data\n",
    "radar_ref = xr.open_dataset('example_data/openmrg_rad_5min_2h.nc')\n",
    "\n",
    "# get the center of each CML\n",
    "ds_cml[\"lat_center\"] = (ds_cml.site_0_lat + ds_cml.site_1_lat) / 2\n",
    "ds_cml[\"lon_center\"] = (ds_cml.site_0_lon + ds_cml.site_1_lon) / 2"
   ]
  },
  {
   "cell_type": "markdown",
   "id": "018b136c-5543-4203-8b6b-ceb1709a8be0",
   "metadata": {},
   "source": [
    "## Inverse distance weighting (IDW)"
   ]
  },
  {
   "cell_type": "code",
   "execution_count": null,
   "id": "11125bde-c14f-4b12-a900-b94dc04b800d",
   "metadata": {},
   "outputs": [],
   "source": [
    "# define the properties of the IDW algorithm\n",
    "idw_interpolator = spatial.interpolator.IdwKdtreeInterpolator(\n",
    "    nnear=15,  # <------------- number of neighbors\n",
    "    p=2,  # <------------------ weighting parameter\n",
    "    exclude_nan=True,  # <----- remove nan values from interpolation\n",
    "    max_distance=0.4,  # <----- upper bound distance\n",
    ")"
   ]
  },
  {
   "cell_type": "code",
   "execution_count": null,
   "id": "287a1190-0a7b-42ee-9170-caac11c1931d",
   "metadata": {},
   "outputs": [],
   "source": [
    "# interpolate one timestep of rainfall using the lat and lon of the link midpoint. \n",
    "R_grid_idw = idw_interpolator(\n",
    "    x=ds_cml.lon_center,  # <------------------------- input x coordinates\n",
    "    y=ds_cml.lat_center,  # <------------------------- input y coordinates\n",
    "    z=ds_cml.R.sel(time=time),  # <----- rainfall values\n",
    "    xgrid=radar_ref.longitudes.values,  # <--------- target grid x coordinates\n",
    "    ygrid=radar_ref.latitudes.values,  # <--------- target grid y coordinates\n",
    ")"
   ]
  },
  {
   "cell_type": "code",
   "execution_count": null,
   "id": "1c5ed32f-c97f-4aac-89d9-dee462e8beab",
   "metadata": {},
   "outputs": [],
   "source": [
    "radar_ref['R_grid_idw'] = (('y', 'x'), R_grid_idw)"
   ]
  },
  {
   "cell_type": "markdown",
   "id": "74c13b4a-6284-48c9-bc7e-73c344815685",
   "metadata": {},
   "source": [
    "## Ordinary Kriging"
   ]
  },
  {
   "cell_type": "code",
   "execution_count": null,
   "id": "786cfd28-4f4c-461c-beb1-03461f1c004d",
   "metadata": {},
   "outputs": [],
   "source": [
    "kriging_interpolator = spatial.interpolator.OrdinaryKrigingInterpolator(\n",
    "    nlags=6,\n",
    "    variogram_model='spherical',\n",
    "    #variogram_parameters=None,\n",
    "    weight=True,\n",
    "    n_closest_points=15,\n",
    ")"
   ]
  },
  {
   "cell_type": "code",
   "execution_count": null,
   "id": "d49857ed-bf48-44ce-ac41-1d31958b8d05",
   "metadata": {},
   "outputs": [],
   "source": [
    "R_grid_kriging = kriging_interpolator(\n",
    "    x=ds_cml.lon_center.where(~np.isnan(ds_cml.R.sel(time=time)), drop = True), \n",
    "    y=ds_cml.lat_center.where(~np.isnan(ds_cml.R.sel(time=time)), drop = True), \n",
    "    z=ds_cml.R.sel(time=time).where(~np.isnan(ds_cml.R.sel(time=time)), drop = True),  # <----- rainfall values\n",
    "    xgrid=radar_ref.longitudes.values,  # <--------- target grid x coordinates\n",
    "    ygrid=radar_ref.latitudes.values,  # <--------- target grid y coordinates\n",
    ")"
   ]
  },
  {
   "cell_type": "code",
   "execution_count": null,
   "id": "22d67b1d-75d3-42fb-a5e7-878986b3fe09",
   "metadata": {
    "tags": []
   },
   "outputs": [],
   "source": [
    "radar_ref['R_grid_kriging'] = (('y', 'x'), R_grid_kriging)"
   ]
  },
  {
   "cell_type": "markdown",
   "id": "da810f72-c6d8-4471-8978-cd62b1ff06d9",
   "metadata": {},
   "source": [
    "# Plot IDW and Kriging results"
   ]
  },
  {
   "cell_type": "code",
   "execution_count": null,
   "id": "4c35466e-f4c0-49f3-91e8-3ce129130b01",
   "metadata": {},
   "outputs": [],
   "source": [
    "# such a 2-d array can be visulaized with matplotlibs pcolormesh function\n",
    "fig, ax = plt.subplots(1, 3, figsize = (4*3, 4))\n",
    "\n",
    "ax[0].set_title('IDW prediction')\n",
    "im=ax[0].pcolormesh(radar_ref.longitudes.values, radar_ref.latitudes.values, R_grid_idw,vmin=0,vmax=1)\n",
    "plg.plot_map.plot_lines(ds_cml, use_lon_lat=True, ax=ax[0]) \n",
    "plt.colorbar(im, ax=ax[0])\n",
    "\n",
    "ax[1].set_title('Kriging prediction')\n",
    "im = ax[1].pcolormesh(radar_ref.longitudes.values, radar_ref.latitudes.values, radar_ref['R_grid_kriging'],vmin=0,vmax=1)\n",
    "plg.plot_map.plot_lines(ds_cml, use_lon_lat=True, ax=ax[1])\n",
    "plt.colorbar(im, ax=ax[1])   \n",
    "\n",
    "ax[2].set_title('radar reference')\n",
    "im = ax[2].pcolormesh(\n",
    "    radar_ref.longitudes.values, \n",
    "    radar_ref.latitudes.values, \n",
    "    radar_ref.rainfall_amount.sel(time = time, method = 'nearest'),vmin=0,vmax=1\n",
    ")\n",
    "plg.plot_map.plot_lines(ds_cml, use_lon_lat=True, ax=ax[2])\n",
    "plt.colorbar(im, ax=ax[2])\n",
    "plt.tight_layout();\n"
   ]
  },
  {
   "cell_type": "markdown",
   "id": "31c9eb21-e49e-4002-8476-2ddfd70fa353",
   "metadata": {},
   "source": [
    "# Comparing IDW and Kriging to the radar reference"
   ]
  },
  {
   "cell_type": "code",
   "execution_count": null,
   "id": "b26df0dd-1688-4bc3-be31-47c66915e4ec",
   "metadata": {},
   "outputs": [],
   "source": [
    "# crop the radar and estimated rainfall fields so that we compare the interpolated pixels\n",
    "radar_ref_crop = radar_ref.isel(x = slice(10, 30), y = slice(10, 40))"
   ]
  },
  {
   "cell_type": "code",
   "execution_count": null,
   "id": "9b161407-e07c-4731-9c8e-89fda2da78ba",
   "metadata": {},
   "outputs": [],
   "source": [
    "fig, ax = plt.subplots(1, 2, figsize= (8, 4))\n",
    "ax[0].hexbin(\n",
    "    radar_ref_crop.rainfall_amount.sel(time = time, method = 'nearest').values,\n",
    "    radar_ref_crop.R_grid_idw.values,\n",
    "    bins = 'log',\n",
    "    gridsize = 40,\n",
    "    extent = (0, 1, 0, 1),\n",
    "    mincnt=1,\n",
    ")\n",
    "ax[0].set_title('IDW')\n",
    "ax[0].set_xlabel('radar')\n",
    "ax[0].set_ylabel('cml idw')\n",
    "\n",
    "ax[1].hexbin(\n",
    "    radar_ref_crop.rainfall_amount.sel(time = time, method = 'nearest').values,\n",
    "    radar_ref_crop.R_grid_kriging.values,\n",
    "    bins = 'log',\n",
    "    gridsize = 40,\n",
    "    extent = (0, 1, 0, 1),\n",
    "    mincnt=1,\n",
    ")\n",
    "ax[1].set_title('Kriging');\n",
    "ax[1].set_xlabel('radar')\n",
    "ax[1].set_ylabel('cml kriging')\n",
    "plt.tight_layout();"
   ]
  },
  {
   "cell_type": "markdown",
   "id": "74e006e9-28f8-4494-a168-2b4a027aa9f0",
   "metadata": {},
   "source": [
    "# Exercise 1\n",
    "1.1 Interpolate and plot the rainfall sum of the 2.5h example dataset and compare it to the reference\n",
    "1.2 Remove very short CMLs and interpolate again. Discuss reasons for difference in scatterplot. What other options do we have to improve the  interpolation?"
   ]
  },
  {
   "cell_type": "code",
   "execution_count": null,
   "id": "afd8d292-36a3-42cb-8280-dd1938925852",
   "metadata": {},
   "outputs": [],
   "source": [
    "# 1.1 your solution here\n",
    "\n"
   ]
  },
  {
   "cell_type": "code",
   "execution_count": null,
   "id": "9e111001-bf92-46f6-b327-59065f378611",
   "metadata": {},
   "outputs": [],
   "source": [
    "# one solution for all three exercises\n",
    "if input(\"Enter 'Solution' to display solutions: \")=='Solution':\n",
    "    %load solutions/4_1_1_solution.py"
   ]
  },
  {
   "cell_type": "code",
   "execution_count": null,
   "id": "4f0a1d43-131d-42d1-b0d6-079f45e318fb",
   "metadata": {},
   "outputs": [],
   "source": [
    "# 1.2 your solution here\n",
    "\n"
   ]
  },
  {
   "cell_type": "code",
   "execution_count": null,
   "id": "b192352b-8fb8-4f8c-acf3-f16ac8c20fb5",
   "metadata": {},
   "outputs": [],
   "source": [
    "# one solution for all three exercises\n",
    "if input(\"Enter 'Solution' to display solutions: \")=='Solution':\n",
    "    %load solutions/4_1_2_solution.py"
   ]
  },
  {
   "cell_type": "code",
   "execution_count": null,
   "id": "6629ec3a-871f-4010-ae90-ccf1ca466000",
   "metadata": {},
   "outputs": [],
   "source": []
  }
 ],
 "metadata": {
  "kernelspec": {
   "display_name": "Python 3 (ipykernel)",
   "language": "python",
   "name": "python3"
  },
  "language_info": {
   "codemirror_mode": {
    "name": "ipython",
    "version": 3
   },
   "file_extension": ".py",
   "mimetype": "text/x-python",
   "name": "python",
   "nbconvert_exporter": "python",
   "pygments_lexer": "ipython3",
   "version": "3.11.11"
  }
 },
 "nbformat": 4,
 "nbformat_minor": 5
}
