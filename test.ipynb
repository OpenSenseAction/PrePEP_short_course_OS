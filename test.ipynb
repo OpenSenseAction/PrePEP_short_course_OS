{
 "cells": [
  {
   "cell_type": "code",
   "execution_count": null,
   "id": "0ba254a7-327b-4c6b-8717-d34b8fffde72",
   "metadata": {},
   "outputs": [],
   "source": [
    "import sys\n",
    "\n",
    "sys.path.append('poligrain/src')\n",
    "sys.path.append('pypwsqc/src')\n",
    "sys.path.append('poligrain/src')\n",
    "\n",
    "import xarray as xr\n",
    "import poligrain as plg\n",
    "\n",
    "test = xr.open_dataset(\"pypwsqc/docs/notebooks/data/RadarRef_AMS.nc\")\n",
    "plg.plot_map.plot_plg(\n",
    "    da_gauges=test.rainfall.sum(dim=\"time\"),\n",
    "    use_lon_lat=True,\n",
    "    vmin=0,\n",
    "    vmax=8,\n",
    "    cmap=\"turbo\",\n",
    "    marker_size=100,\n",
    ");"
   ]
  }
 ],
 "metadata": {
  "kernelspec": {
   "display_name": "Python 3 (ipykernel)",
   "language": "python",
   "name": "python3"
  },
  "language_info": {
   "codemirror_mode": {
    "name": "ipython",
    "version": 3
   },
   "file_extension": ".py",
   "mimetype": "text/x-python",
   "name": "python",
   "nbconvert_exporter": "python",
   "pygments_lexer": "ipython3",
   "version": "3.11.11"
  }
 },
 "nbformat": 4,
 "nbformat_minor": 5
}
